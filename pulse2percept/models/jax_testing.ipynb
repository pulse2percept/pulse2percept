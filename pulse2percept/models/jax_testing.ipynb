{
 "cells": [
  {
   "cell_type": "code",
   "execution_count": 1,
   "id": "462b03f8-5fd2-4c43-9829-b89b91d9e57c",
   "metadata": {},
   "outputs": [
    {
     "data": {
      "text/plain": [
       "[GpuDevice(id=0, process_index=0)]"
      ]
     },
     "execution_count": 1,
     "metadata": {},
     "output_type": "execute_result"
    }
   ],
   "source": [
    "from pulse2percept.models import AxonMapModel, BiphasicAxonMapModel, BiphasicAxonMapSpatial, Model, AxonMapSpatial\n",
    "from pulse2percept.stimuli import Stimulus, BiphasicPulseTrain\n",
    "from pulse2percept.implants import DiskElectrode, ProsthesisSystem, ArgusII, ElectrodeArray, ElectrodeGrid\n",
    "import time\n",
    "import numpy as np\n",
    "import os\n",
    "os.environ[\"CUDA_VISIBLE_DEVICES\"]=\"0\"\n",
    "os.environ[\"JAX_LOG_COMPILES\"] = '1'\n",
    "# os.environ[\"XLA_PYTHON_CLIENT_PREALLOCATE\"]='1'\n",
    "import jax\n",
    "jax.devices()"
   ]
  },
  {
   "cell_type": "code",
   "execution_count": 2,
   "id": "800c6e11-cf55-4e30-8f97-00472233d1cc",
   "metadata": {
    "jupyter": {
     "source_hidden": true
    },
    "tags": []
   },
   "outputs": [],
   "source": [
    "from jax import jit, vmap\n",
    "import jax.numpy as jnp\n",
    "from pulse2percept.models import AxonMapModel, BiphasicAxonMapModel, BiphasicAxonMapSpatial, Model, AxonMapSpatial\n",
    "from pulse2percept.stimuli import Stimulus, BiphasicPulseTrain\n",
    "from pulse2percept.implants import DiskElectrode, ProsthesisSystem, ArgusII, ElectrodeArray\n",
    "import jax\n",
    "def predict_one_point(axon, brights, sizes, streaks, x, y, rho, axlambda):\n",
    "    d2_el = (axon[:, 0, None] - x)**2 + (axon[:, 1, None] - y)**2\n",
    "    intensities = brights * jnp.exp(-d2_el / (2. * rho**2 * sizes)) * (axon[:, 2, None] ** (1./streaks))\n",
    "    return jnp.sum(intensities, axis=1)\n",
    "#     return jit(vmap(predict_one_segment, in_axes=[0, None, None, None, None, None, None, None]), static_argnums=[6,7])(axon, brights, sizes, streaks, x, y, rho, axlambda)\n",
    "\n",
    "def gpu_biphasic_axon_map(amp, freq, pdur, x, y, # Per ACTIVE electrode, (amp, freq, pdur, x, y)\n",
    "                          axon_segments, rho, axlambda, thresh_percept):\n",
    "    deg2rad = 3.14159265358979323846 / 180.0\n",
    "\n",
    "#     n_space = len(axon_segments)\n",
    "\n",
    "    min_size = 10**2 / rho**2\n",
    "    min_streak = 10**2 / axlambda **2\n",
    "\n",
    "    # First get contributions from F, G, H per electrode\n",
    "    scaled_amps = amp / (0.8825 + 0.27*pdur)\n",
    "    brights = 1.84*scaled_amps + 0.2*freq + 3.0986\n",
    "    sizes = jnp.maximum(1.081*scaled_amps - 0.3533764, min_size)\n",
    "    streaks = jnp.maximum(1.56 - 0.54 * pdur ** 0.21, min_streak)\n",
    "\n",
    "#     # axon_segments is (n_space, axon_length, 3), x and y are (n_elec)\n",
    "#     d2_el = (axon_segments[:, :, 0, None] - params[3])**2 + (axon_segments[:, :, 1, None] - params[4])**2\n",
    "#     # (n_space, axon_length, n_elecs)\n",
    "    \n",
    "#     #                       (n_elecs) (n_space, axon_length, n_elecs)            (n_space, axon_length, n_elecs) \n",
    "#     electrode_intensities = brights * jnp.exp(-d2_el / ( 2. * rho**2. * sizes)) * (axon_segments[:, :, 2, None] ** (1. / streaks))\n",
    "#     # (n_space, axon_length, n_elecs)\n",
    "    \n",
    "# #     axon_intensities = \n",
    "#     # (n_space, n_elecs)\n",
    "#     I = np.sum(electrode_intensities, axis=2)\n",
    "    \n",
    "    \n",
    "    \n",
    "    \n",
    "    I = jnp.max(jit(vmap(predict_one_point, in_axes=[0, None, None, None, None, None, None, None]))(axon_segments, brights, sizes, streaks, x, y, rho, axlambda), axis=1)\n",
    "    I = (I > thresh_percept) * I\n",
    "    return I\n",
    "from copy import deepcopy\n",
    "from pulse2percept.percepts import Percept\n",
    "class BiphasicAxonMapGPUSpatial(AxonMapSpatial):\n",
    "    def __init__(self, **params):\n",
    "        super(BiphasicAxonMapGPUSpatial, self).__init__(**params)\n",
    "\n",
    "    def _predict_spatial(self, earray, stim):\n",
    "#         start = time.time()\n",
    "        assert isinstance(earray, ElectrodeArray)\n",
    "        assert isinstance(stim, Stimulus)\n",
    "\n",
    "        # get relevant stimulus properties\n",
    "        amps = np.array([stim.metadata['electrodes'][str(e)]['metadata']['amp'] for e in stim.electrodes], dtype=\"float32\")\n",
    "        freqs = np.array([stim.metadata['electrodes'][str(e)]['metadata']['freq'] for e in stim.electrodes], dtype=\"float32\")\n",
    "        pdurs = np.array([stim.metadata['electrodes'][str(e)]['metadata']['phase_dur'] for e in stim.electrodes], dtype=\"float32\")\n",
    "\n",
    "        x = np.array([earray[e].x for e in stim.electrodes], dtype=np.float32)\n",
    "        y = np.array([earray[e].y for e in stim.electrodes], dtype=np.float32)\n",
    "        \n",
    "        params = np.vstack([amps, freqs, pdurs, x, y])\n",
    "#         begin = time.time()\n",
    "#         print(\"Setup time: %.3fms\" % ((begin - start)*1000))\n",
    "#         params = jax.device_put(params, jax.devices()[0])\n",
    "#         ax_contrib = jax.device_put(self.axon_contrib, jax.devices()[0])\n",
    "#         ax_contrib = self.axon_contrib\n",
    "        e1 = time.time()\n",
    "#         print(\"Transfer time: %.3fms\" % ((e1 - begin)*1000))\n",
    "        p =  jit(gpu_biphasic_axon_map, static_argnums=[6, 7, 8])(amps, freqs, pdurs, x, y,\n",
    "                                     self.axon_contrib,\n",
    "                                     self.rho, self.axlambda, self.thresh_percept)\n",
    "        end = time.time()\n",
    "#         print(\"Jax time: {} ms on sample {}\".format((end - begin) * 1000, stim.shape))\n",
    "\n",
    "        return (end - e1) * 1000\n",
    "\n",
    "    def _build(self):\n",
    "        super(BiphasicAxonMapGPUSpatial, self)._build()\n",
    "        self.axon_contrib = jax.device_put(self.axon_contrib, jax.devices()[0])\n",
    "        \n",
    "\n",
    "\n",
    "\n",
    "class BiphasicAxonMapGPU(Model):\n",
    "    def __init__(self, **params):\n",
    "        super(BiphasicAxonMapGPU, self).__init__(spatial=BiphasicAxonMapGPUSpatial(), temporal=None, **params)\n",
    "\n",
    "    def predict_percept(self, implant, t_percept=None):\n",
    "#         start = time.time()\n",
    "        # Make sure stimulus is a BiphasicPulseTrain:\n",
    "        if not isinstance(implant.stim, BiphasicPulseTrain):\n",
    "            # Could still be a stimulus where each electrode has a biphasic pulse train\n",
    "            for ele, params in implant.stim.metadata['electrodes'].items():\n",
    "                if params['type'] != BiphasicPulseTrain or params['metadata']['delay_dur'] != 0: \n",
    "                    raise TypeError(\"All stimuli must be BiphasicPulseTrains with no delay dur (Failing electrode: %s)\" % (ele)) \n",
    "        \n",
    "#         return super(BiphasicAxonMapGPU, self).predict_percept(implant, t_percept=t_percept)\n",
    "\n",
    "        if not self.is_built:\n",
    "            raise NotBuiltError(\"Yout must call ``build`` first.\")\n",
    "        if not isinstance(implant, ProsthesisSystem):\n",
    "            raise TypeError((\"'implant' must be a ProsthesisSystem object, \"\n",
    "                             \"not %s.\") % type(implant))\n",
    "\n",
    "        # Calculate the Stimulus at requested time points:\n",
    "\n",
    "        stim = Stimulus(implant.stim) # make sure stimulus is in proper format\n",
    "\n",
    "#         e4 = time.time()\n",
    "#         print(\"Stim restructuring and checks: %.3fms\" % ((e4 - start) * 1000))\n",
    "        \n",
    "        resp = self._predict_spatial(implant.earray, stim)\n",
    "        return resp\n",
    "#         e5 = time.time()\n",
    "#         print(\"predict_spatial: %.3fms\" % ((e5 - e4) * 1000))\n",
    "        p = Percept(resp.reshape(list(self.grid.x.shape) + [-1]),\n",
    "                       space=self.grid, time=None,\n",
    "                       metadata={'stim': stim.metadata})\n",
    "#         e6 = time.time()\n",
    "#         print(\"Percept Construction: %.3fms\" % ((e6 - e5) * 1000))\n",
    "        return p\n",
    "\n",
    "    def predict_percept_batched(self, implant, stim_list, t_percept=None):\n",
    "        start = time.time()\n",
    "        for stim in stim_list:\n",
    "            if not isinstance(stim, BiphasicPulseTrain):\n",
    "                # Could still be a stimulus where each electrode has a biphasic pulse train\n",
    "                for ele, params in stim.metadata['electrodes'].items():\n",
    "                    if params['type'] != BiphasicPulseTrain or params['metadata']['delay_dur'] != 0: \n",
    "                        raise TypeError(\"All stimuli must be BiphasicPulseTrains with no delay dur (Failing electrode: %s)\" % (ele)) \n",
    "        \n",
    "        if not self.is_built:\n",
    "            raise NotBuiltError(\"You must call ``build`` first.\")\n",
    "        if not isinstance(implant, ProsthesisSystem):\n",
    "            raise TypeError((\"'implant' must be a ProsthesisSystem object, \"\n",
    "                             \"not %s.\") % type(implant))\n",
    "        \n",
    "        batch = []\n",
    "        for stim in stim_list:   \n",
    "            amps = np.array([stim.metadata['electrodes'][str(e)]['metadata']['amp'] for e in stim.electrodes], dtype=\"float32\")\n",
    "            freqs = np.array([stim.metadata['electrodes'][str(e)]['metadata']['freq'] for e in stim.electrodes], dtype=\"float32\")\n",
    "            pdurs = np.array([stim.metadata['electrodes'][str(e)]['metadata']['phase_dur'] for e in stim.electrodes], dtype=\"float32\")\n",
    "            x = np.array([implant.earray[e].x for e in stim.electrodes], dtype=np.float32)\n",
    "            y = np.array([implant.earray[e].y for e in stim.electrodes], dtype=np.float32)\n",
    "\n",
    "            batch.append(np.vstack([amps, freqs, pdurs, x, y]))\n",
    "        \n",
    "        batch = np.array(batch) \n",
    "        e1 = time.time()\n",
    "        print(\"Setup: %.3fms\" % ((e1 - start) * 1000))\n",
    "#         print(batch.shape)\n",
    "        start = time.time()\n",
    "#         print(\"Transfer: %.3fms\" % ((start - e1) * 1000))\n",
    "        resps = jit(vmap(gpu_biphasic_axon_map, in_axes=[0, None, None, None, None]), static_argnums=[2,3,4])(batch, self.axon_contrib, self.rho, self.axlambda, self.thresh_percept).block_until_ready()\n",
    "        end = time.time()\n",
    "        print(\"Jax time: %.3f ms, %.3f ms per sample\" % (float(end - start) * 1000, float((end - start) * 1000 / len(stim_list))))\n"
   ]
  },
  {
   "cell_type": "code",
   "execution_count": 3,
   "id": "6247143d-8039-4e6e-9e75-e3510da37007",
   "metadata": {
    "jupyter": {
     "source_hidden": true
    },
    "tags": []
   },
   "outputs": [],
   "source": [
    "import time\n",
    "import random\n",
    "import math\n",
    "from pulse2percept.stimuli import Stimulus, BiphasicPulseTrain\n",
    "\n",
    "batch = None\n",
    "batched_size = None\n",
    "n_elec_size = None\n",
    "def rand_stim(implant, n_electrodes=1, shorten=True, verbose=True, stripped = True):\n",
    "    maxamp = 15\n",
    "    maxfreq = 200\n",
    "    elecs = set()\n",
    "    elecs.update(random.sample(list(implant.electrode_names), n_electrodes))\n",
    "    \n",
    "    stim = {}\n",
    "    for elec in elecs:\n",
    "        estim = None\n",
    "        while estim is None:\n",
    "            amp = random.random() * maxamp\n",
    "            freq = random.random() * maxfreq\n",
    "            pdur = random.expovariate(1)\n",
    "            while pdur > 1000 / freq / 2 or pdur < 0.01 or pdur > 100:\n",
    "                pdur = random.expovariate(1)\n",
    "            if stripped:\n",
    "                estim = (freq, amp, pdur)\n",
    "            else:\n",
    "                try:\n",
    "                    if shorten:\n",
    "                        estim = BiphasicPulseTrain(freq, amp, pdur, stim_dur=math.ceil(3*pdur))\n",
    "                    else:\n",
    "                        estim = BiphasicPulseTrain(freq, amp, pdur, stim_dur=250)\n",
    "                except Exception as e:\n",
    "                    if verbose: \n",
    "                        print(\"bad stim {}\".format((freq, amp, pdur)))\n",
    "                    estim = None\n",
    "                    continue\n",
    "        stim[elec] = estim\n",
    "        \n",
    "    if not stripped:\n",
    "        stimulus = Stimulus(stim)\n",
    "    else:\n",
    "        stimulus = np.array([i for i in stim.values()], dtype=np.float32), np.array([implant[e].x for e in stim.keys()], dtype=np.float32), np.array([implant[e].y for e in stim.keys()], dtype=np.float32)\n",
    "    return stimulus\n",
    "\n",
    "def time_constant(model, implant, n_elecs=1, n_samples=10, stim_func=rand_stim, verbose=True, shorten=True, stripped=True):\n",
    "    total_time = 0\n",
    "    stim_time = 0\n",
    "    for i in range(n_samples):\n",
    "        try:\n",
    "            start = time.time()\n",
    "            stim = stim_func(implant, n_electrodes=n_elecs, shorten=shorten, verbose=verbose, stripped = stripped)\n",
    "            \n",
    "            stim_time += time.time() - start\n",
    "            start = time.time()\n",
    "            if not stripped:\n",
    "                implant.stim = stim\n",
    "                percept = model.predict_percept(implant)\n",
    "            else:\n",
    "                percept = model.spatial._predict_spatial_jax(stim[0], stim[1], stim[2]).block_until_ready()\n",
    "            end = time.time()\n",
    "            # print(f\"outer loop time: {round((end - start) * 1000, 1)}ms\")\n",
    "            # print()\n",
    "            total_time += end - start\n",
    "        except Exception as e:\n",
    "            i -= 1\n",
    "            print(e)\n",
    "            raise e\n",
    "            # continue\n",
    "    if verbose:\n",
    "        print(\"Average stimulus creation time: %.2fms\" % (stim_time / n_samples * 1000))\n",
    "        print(\"Average prediction time (%d electrodes): %.2fms\" % (n_elecs, total_time / n_samples * 1000))\n",
    "        print(\"Average prediction time per electrode: %.2fms\" % (total_time / n_samples * 1000 / n_elecs))\n",
    "    return total_time / n_samples * 1000\n",
    "\n",
    "def time_batch(model, implant, n_elecs=1, batch_size=256, stim_func=rand_stim, verbose=True, stripped=True, shorten=True):\n",
    "    global batch, batched_size, n_elec_size\n",
    "    if batch is None or batched_size != batch_size or n_elecs != n_elec_size: # use precomputed batch if possible\n",
    "        stim_list = []\n",
    "        for i in range(batch_size):\n",
    "            try:\n",
    "                stim_list.append(stim_func(implant, n_electrodes=n_elecs, stripped = stripped, shorten=shorten))\n",
    "            except Exception as e:\n",
    "                i -= 1\n",
    "                print(e)\n",
    "                continue\n",
    "        if stripped:\n",
    "            eparams = np.array([l[0] for l in stim_list])\n",
    "            x = np.array(stim_list[0][1])\n",
    "            y = np.array(stim_list[0][2])\n",
    "            batch = (eparams, x, y)\n",
    "            stim_list = batch\n",
    "        else:\n",
    "            batch = stim_list\n",
    "        batched_size = batch_size\n",
    "    else:\n",
    "        stim_list = batch\n",
    "    \n",
    "    if verbose:\n",
    "        print(\"predicting percepts\")\n",
    "    start = time.time()\n",
    "    if not stripped:\n",
    "        t = model.predict_percept_batched(implant, stim_list)\n",
    "    else:\n",
    "        t = model.spatial._predict_spatial_batched(stim_list[0], stim_list[1], stim_list[2]).block_until_ready()\n",
    "        \n",
    "    end = time.time()\n",
    "    total_time = end - start\n",
    "    if verbose:\n",
    "        print(\"Average prediction time (%d electrodes): %.2fms\" % (n_elecs, total_time / batch_size * 1000))\n",
    "        print(\"Total batch time: %.3fms\" % ((end - start)* 1000))\n",
    "    return total_time * 1000"
   ]
  },
  {
   "cell_type": "markdown",
   "id": "9c9784be-c631-4b2c-b0ed-84b3d5854160",
   "metadata": {},
   "source": [
    "## Setup"
   ]
  },
  {
   "cell_type": "code",
   "execution_count": 4,
   "id": "67598284-3db4-48a9-95e7-bc1ad4176fc1",
   "metadata": {},
   "outputs": [],
   "source": [
    "model = BiphasicAxonMapModel(axlambda=800, engine='jax', min_ax_sensitivity=5e-3)\n",
    "model.build()\n",
    "implant = ProsthesisSystem(ElectrodeGrid((50, 50), 120, r=40, names=('A', '1'), type='hex', etype=DiskElectrode))\n",
    "stim = Stimulus({ \"A10\" : BiphasicPulseTrain(30, 1, 0.45)})\n",
    "# stim = Stimulus({\"A5\" : BiphasicPulseTrain(20, 1, 0.45), \"A10\" : BiphasicPulseTrain(30, 1, 0.45), \"A4\" : BiphasicPulseTrain(20, 1, 0.45)})\n",
    "implant.stim = stim"
   ]
  },
  {
   "cell_type": "code",
   "execution_count": 10,
   "id": "78459716-e696-4f53-b917-d50c20acda05",
   "metadata": {},
   "outputs": [
    {
     "name": "stdout",
     "output_type": "stream",
     "text": [
      "Took 1.6ms\n"
     ]
    }
   ],
   "source": [
    "start = time.time()\n",
    "percept = model.predict_percept(implant)\n",
    "real_time = (time.time() - start)*1000\n",
    "print(f\"Took {round(real_time, 1)}ms\")"
   ]
  },
  {
   "cell_type": "code",
   "execution_count": 12,
   "id": "8f268874-4dfe-4621-bdf2-6347de41795b",
   "metadata": {},
   "outputs": [
    {
     "name": "stdout",
     "output_type": "stream",
     "text": [
      "Average stimulus creation time: 3.55ms\n",
      "Average prediction time (1000 electrodes): 20.03ms\n",
      "Average prediction time per electrode: 0.02ms\n"
     ]
    },
    {
     "data": {
      "text/plain": [
       "20.028257369995117"
      ]
     },
     "execution_count": 12,
     "metadata": {},
     "output_type": "execute_result"
    }
   ],
   "source": [
    "time_constant(model, implant, n_elecs=1000, n_samples=10)"
   ]
  },
  {
   "cell_type": "code",
   "execution_count": 21,
   "id": "377a8354-904c-4d39-8be4-fdd5af32f78d",
   "metadata": {},
   "outputs": [
    {
     "name": "stdout",
     "output_type": "stream",
     "text": [
      "predicting percepts\n",
      "Average prediction time (15 electrodes): 58.56ms\n",
      "Total batch time: 14991.248ms\n"
     ]
    }
   ],
   "source": [
    "resps = time_batch(model, implant, n_elecs=15, batch_size=256)"
   ]
  },
  {
   "cell_type": "markdown",
   "id": "77a9c088-c3d8-4d8b-98d4-da019c93f381",
   "metadata": {},
   "source": [
    "### Make sure theyre the same"
   ]
  },
  {
   "cell_type": "code",
   "execution_count": 22,
   "id": "23db9db1-03b9-4019-aefb-d7815efec7be",
   "metadata": {},
   "outputs": [
    {
     "data": {
      "text/plain": [
       "1.1920928955078125e-07"
      ]
     },
     "execution_count": 22,
     "metadata": {},
     "output_type": "execute_result"
    }
   ],
   "source": [
    "m1 = BiphasicAxonMapModel(axlambda=800, engine='cython', min_ax_sensitivity=5e-3)\n",
    "m1.build()\n",
    "p1 = m1.predict_percept(implant)\n",
    "np.max(np.abs(p1.data - percept.data))"
   ]
  },
  {
   "cell_type": "markdown",
   "id": "f29f5f0d-a89f-4c5b-9f76-0af1b366ebe1",
   "metadata": {},
   "source": [
    "## Plots"
   ]
  },
  {
   "cell_type": "markdown",
   "id": "4d67aadc-4691-4683-89da-c23c8753bac2",
   "metadata": {},
   "source": [
    "Note: Run twice to get best times (compile)"
   ]
  },
  {
   "cell_type": "code",
   "execution_count": 4,
   "id": "c09ee261-bbd4-4998-8d39-6242c0ee6853",
   "metadata": {},
   "outputs": [],
   "source": [
    "import matplotlib.pyplot as plt\n",
    "model = BiphasicAxonMapModel(axlambda=800, engine='jax', min_ax_sensitivity=5e-3)\n",
    "model.build()\n",
    "implant = ProsthesisSystem(ElectrodeGrid((75, 75), 120, r=40, names=('A', '1'), type='hex', etype=DiskElectrode))"
   ]
  },
  {
   "cell_type": "markdown",
   "id": "7bdf3dda-64d1-4d6d-bd24-07f167b704f8",
   "metadata": {},
   "source": [
    "#### Scaling number of electrodes"
   ]
  },
  {
   "cell_type": "code",
   "execution_count": 65,
   "id": "3dbdaaef-cdf6-4ff1-9b36-927b25da7a4f",
   "metadata": {},
   "outputs": [
    {
     "data": {
      "text/plain": [
       "Text(0.5, 0, 'Number of Electrodes')"
      ]
     },
     "execution_count": 65,
     "metadata": {},
     "output_type": "execute_result"
    },
    {
     "data": {
      "image/png": "[encoded data removed]",
      "text/plain": [
       "<Figure size 432x288 with 1 Axes>"
      ]
     },
     "metadata": {
      "needs_background": "light"
     },
     "output_type": "display_data"
    }
   ],
   "source": [
    "test_elecs = [1, 15, 60, 250, 1000]\n",
    "times = []\n",
    "for n_elecs in test_elecs:\n",
    "    times.append(time_constant(model, implant, n_elecs=n_elecs, n_samples=30, verbose=False))\n",
    "plt.plot(test_elecs, times)\n",
    "plt.ylabel(\"Time (ms)\")\n",
    "plt.xlabel(\"Number of Electrodes\")\n",
    "# plt.xscale('log')"
   ]
  },
  {
   "cell_type": "markdown",
   "id": "121416ff-4910-4e74-97b5-1787dcb724b4",
   "metadata": {},
   "source": [
    "#### Scaling number of percepts (batch size), 60 active electrodes"
   ]
  },
  {
   "cell_type": "code",
   "execution_count": 15,
   "id": "199161d3-e802-4554-8e50-8e19093a48e5",
   "metadata": {},
   "outputs": [
    {
     "data": {
      "text/plain": [
       "Text(0.5, 0, 'Batch size (60 active electrodes each)')"
      ]
     },
     "execution_count": 15,
     "metadata": {},
     "output_type": "execute_result"
    },
    {
     "data": {
      "image/png": "[encoded data removed]",
      "text/plain": [
       "<Figure size 432x288 with 1 Axes>"
      ]
     },
     "metadata": {
      "needs_background": "light"
     },
     "output_type": "display_data"
    }
   ],
   "source": [
    "test_vals = [1, 32, 128, 256, 1024]\n",
    "times = []\n",
    "for test_val in test_vals:\n",
    "    times.append(time_batch(model, implant, n_elecs=60, batch_size=test_val, verbose=False))\n",
    "plt.plot(test_vals, times)\n",
    "plt.ylabel(\"Time (ms)\")\n",
    "plt.xlabel(\"Batch size (60 active electrodes each)\")\n",
    "# plt.xscale('log')"
   ]
  },
  {
   "cell_type": "code",
   "execution_count": 16,
   "id": "9785b59a-bf1e-453b-ba22-0c85424dc741",
   "metadata": {},
   "outputs": [
    {
     "data": {
      "text/plain": [
       "Text(0.5, 0, 'Batch size (60 active electrodes each)')"
      ]
     },
     "execution_count": 16,
     "metadata": {},
     "output_type": "execute_result"
    },
    {
     "data": {
      "image/png": "[encoded data removed]",
      "text/plain": [
       "<Figure size 432x288 with 1 Axes>"
      ]
     },
     "metadata": {
      "needs_background": "light"
     },
     "output_type": "display_data"
    }
   ],
   "source": [
    "plt.plot(test_vals, [times[i] / test_vals[i] for i in range(len(times))])\n",
    "plt.ylabel(\"Time per percept (ms)\")\n",
    "plt.xlabel(\"Batch size (60 active electrodes each)\")"
   ]
  },
  {
   "cell_type": "markdown",
   "id": "6481b74c-baf5-4988-acba-d51125bce668",
   "metadata": {},
   "source": [
    "#### Scaling percept size (xystep)"
   ]
  },
  {
   "cell_type": "code",
   "execution_count": 48,
   "id": "bd45ba90-7f4e-4c37-9f58-0ac8367bb0a2",
   "metadata": {},
   "outputs": [
    {
     "data": {
      "text/plain": [
       "Text(0.5, 0, 'Number of points')"
      ]
     },
     "execution_count": 48,
     "metadata": {},
     "output_type": "execute_result"
    },
    {
     "data": {
      "image/png": "[encoded data removed]",
      "text/plain": [
       "<Figure size 432x288 with 1 Axes>"
      ]
     },
     "metadata": {
      "needs_background": "light"
     },
     "output_type": "display_data"
    }
   ],
   "source": [
    "test_vals = [1, 0.5, 0.25, 0.125, 0.125/2]\n",
    "times = []\n",
    "for test_val in test_vals:\n",
    "    model.xystep = test_val\n",
    "    model.build()\n",
    "    time_constant(model, implant, n_elecs=15, verbose=False)\n",
    "    t = time_constant(model, implant, n_elecs=15, verbose=False)\n",
    "    times.append(t)\n",
    "plt.plot([((np.diff(model.grid.x_range) / xystep)+1)**2 for xystep in test_vals], times)\n",
    "plt.ylabel(\"Time (ms)\")\n",
    "plt.xlabel(\"Number of points\")"
   ]
  },
  {
   "cell_type": "code",
   "execution_count": null,
   "id": "db153de8-05b6-4dfc-b692-c83e621e9f3b",
   "metadata": {},
   "outputs": [],
   "source": []
  },
  {
   "cell_type": "markdown",
   "id": "3b7530c0-6c00-4b39-8634-17a95ce25d32",
   "metadata": {},
   "source": [
    "### Again for cpu"
   ]
  },
  {
   "cell_type": "code",
   "execution_count": 4,
   "id": "4b06e624-4529-44c5-82e5-8598deefdd34",
   "metadata": {},
   "outputs": [],
   "source": [
    "import matplotlib.pyplot as plt\n",
    "model = BiphasicAxonMapModel(axlambda=800, engine='jax', min_ax_sensitivity=5e-3)\n",
    "model.build()\n",
    "implant = ProsthesisSystem(ElectrodeGrid((75, 75), 120, r=40, names=('A', '1'), type='hex', etype=DiskElectrode))"
   ]
  },
  {
   "cell_type": "markdown",
   "id": "ff1a5cb4-9a98-4703-a4ef-c060fa62c96b",
   "metadata": {},
   "source": [
    "#### Scaling number of electrodes"
   ]
  },
  {
   "cell_type": "code",
   "execution_count": 5,
   "id": "37685d7d-12d1-4532-afb5-46e11a30f614",
   "metadata": {},
   "outputs": [
    {
     "data": {
      "text/plain": [
       "Text(0.5, 0, 'Number of Electrodes')"
      ]
     },
     "execution_count": 5,
     "metadata": {},
     "output_type": "execute_result"
    },
    {
     "data": {
      "image/png": "[encoded data removed]",
      "text/plain": [
       "<Figure size 432x288 with 1 Axes>"
      ]
     },
     "metadata": {
      "needs_background": "light"
     },
     "output_type": "display_data"
    }
   ],
   "source": [
    "test_elecs = [1, 15, 60, 250, 1000]\n",
    "times = []\n",
    "for n_elecs in test_elecs:\n",
    "    times.append(time_constant(model, implant, n_elecs=n_elecs, n_samples=30, verbose=False))\n",
    "plt.plot(test_elecs, times)\n",
    "plt.ylabel(\"Time (ms)\")\n",
    "plt.xlabel(\"Number of Electrodes\")\n",
    "# plt.xscale('log')"
   ]
  },
  {
   "cell_type": "markdown",
   "id": "8841a585-c97e-474e-9928-a237f05577e4",
   "metadata": {},
   "source": [
    "#### Scaling number of percepts (batch size), 60 active electrodes"
   ]
  },
  {
   "cell_type": "code",
   "execution_count": null,
   "id": "d832faee-faf5-4e0c-a439-f96fdd014075",
   "metadata": {},
   "outputs": [],
   "source": [
    "test_vals = [1, 32, 128, 256, 1024]\n",
    "times = []\n",
    "for test_val in test_vals:\n",
    "    times.append(time_batch(model, implant, n_elecs=60, batch_size=test_val, verbose=False))\n",
    "plt.plot(test_vals, times)\n",
    "plt.ylabel(\"Time (ms)\")\n",
    "plt.xlabel(\"Batch size (60 active electrodes each)\")\n",
    "# plt.xscale('log')"
   ]
  },
  {
   "cell_type": "code",
   "execution_count": null,
   "id": "01f63ff2-b441-4389-8015-6a3c080d0c5a",
   "metadata": {},
   "outputs": [],
   "source": [
    "plt.plot(test_vals, [times[i] / test_vals[i] for i in range(len(times))])\n",
    "plt.ylabel(\"Time per percept (ms)\")\n",
    "plt.xlabel(\"Batch size (60 active electrodes each)\")"
   ]
  },
  {
   "cell_type": "markdown",
   "id": "73ee1f12-a17f-4668-9a2d-c8f650904394",
   "metadata": {},
   "source": [
    "#### Scaling percept size (xystep)"
   ]
  },
  {
   "cell_type": "code",
   "execution_count": null,
   "id": "6ebed07d-abc8-49a4-81e5-acbbc5330ad6",
   "metadata": {},
   "outputs": [],
   "source": [
    "test_vals = [1, 0.5, 0.25, 0.125]\n",
    "times = []\n",
    "for test_val in test_vals:\n",
    "    model.xystep = test_val\n",
    "    model.build()\n",
    "    time_constant(model, implant, n_elecs=15, verbose=False)\n",
    "    t = time_constant(model, implant, n_elecs=15, verbose=False)\n",
    "    times.append(t)\n",
    "plt.plot([((np.diff(model.grid.x_range) / xystep)+1)**2 for xystep in test_vals], times)\n",
    "plt.ylabel(\"Time (ms)\")\n",
    "plt.xlabel(\"Number of points\")"
   ]
  },
  {
   "cell_type": "code",
   "execution_count": 19,
   "id": "4a0942fc-b9c7-46dd-a187-02ebb0cef576",
   "metadata": {},
   "outputs": [
    {
     "data": {
      "text/plain": [
       "{1, 2, 3, 4, 5}"
      ]
     },
     "execution_count": 19,
     "metadata": {},
     "output_type": "execute_result"
    }
   ],
   "source": [
    "set().union(*[[1,2,3], [2,3,4], [5]])"
   ]
  },
  {
   "cell_type": "code",
   "execution_count": null,
   "id": "dc423a81-178a-4610-ab00-2aad72848f72",
   "metadata": {},
   "outputs": [],
   "source": []
  }
 ],
 "metadata": {
  "kernelspec": {
   "display_name": "Python 3 (ipykernel)",
   "language": "python",
   "name": "python3"
  },
  "language_info": {
   "codemirror_mode": {
    "name": "ipython",
    "version": 3
   },
   "file_extension": ".py",
   "mimetype": "text/x-python",
   "name": "python",
   "nbconvert_exporter": "python",
   "pygments_lexer": "ipython3",
   "version": "3.8.12"
  }
 },
 "nbformat": 4,
 "nbformat_minor": 5
}
