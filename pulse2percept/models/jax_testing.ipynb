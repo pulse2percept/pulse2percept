{
 "cells": [
  {
   "cell_type": "code",
   "execution_count": 1,
   "id": "462b03f8-5fd2-4c43-9829-b89b91d9e57c",
   "metadata": {},
   "outputs": [
    {
     "data": {
      "text/plain": [
       "[GpuDevice(id=0, process_index=0)]"
      ]
     },
     "execution_count": 1,
     "metadata": {},
     "output_type": "execute_result"
    }
   ],
   "source": [
    "from pulse2percept.models import AxonMapModel, BiphasicAxonMapModel, BiphasicAxonMapSpatial, Model, AxonMapSpatial\n",
    "from pulse2percept.stimuli import Stimulus, BiphasicPulseTrain\n",
    "from pulse2percept.implants import DiskElectrode, ProsthesisSystem, ArgusII, ElectrodeArray\n",
    "import time\n",
    "import numpy as np\n",
    "import os\n",
    "os.environ[\"CUDA_VISIBLE_DEVICES\"]=\"0\"\n",
    "os.environ[\"JAX_LOG_COMPILES\"] = \"True\"\n",
    "import jax\n",
    "jax.devices()"
   ]
  },
  {
   "cell_type": "markdown",
   "id": "9c9784be-c631-4b2c-b0ed-84b3d5854160",
   "metadata": {},
   "source": [
    "## Setup"
   ]
  },
  {
   "cell_type": "code",
   "execution_count": 26,
   "id": "67598284-3db4-48a9-95e7-bc1ad4176fc1",
   "metadata": {},
   "outputs": [],
   "source": [
    "model = BiphasicAxonMapModel(axlambda=800, engine='jax', min_ax_sensitivity=5e-3)\n",
    "model.build()\n",
    "implant = ArgusII()\n",
    "stim = Stimulus({ \"A10\" : BiphasicPulseTrain(30, 1, 0.45)})\n",
    "stim = Stimulus({\"A5\" : BiphasicPulseTrain(20, 1, 0.45), \"A10\" : BiphasicPulseTrain(30, 1, 0.45), \"A4\" : BiphasicPulseTrain(20, 1, 0.45)})\n",
    "implant.stim = stim"
   ]
  },
  {
   "cell_type": "code",
   "execution_count": null,
   "id": "35d13e11-df6c-424c-beb8-7d5c5d224f54",
   "metadata": {},
   "outputs": [],
   "source": []
  },
  {
   "cell_type": "code",
   "execution_count": 34,
   "id": "78459716-e696-4f53-b917-d50c20acda05",
   "metadata": {},
   "outputs": [
    {
     "name": "stdout",
     "output_type": "stream",
     "text": [
      "Took 3.0ms, 2.4ms jax (78.0%)\n"
     ]
    }
   ],
   "source": [
    "start = time.time()\n",
    "jax_time = model.predict_percept(implant)\n",
    "real_time = (time.time() - start)*1000\n",
    "print(f\"Took {round(real_time, 1)}ms, {round(jax_time, 1)}ms jax ({round(jax_time / real_time * 100, 0)}%)\")"
   ]
  },
  {
   "cell_type": "code",
   "execution_count": 38,
   "id": "a74d9f7b-aa2f-4803-9e71-7b827de68bcf",
   "metadata": {},
   "outputs": [
    {
     "name": "stdout",
     "output_type": "stream",
     "text": [
      "\n"
     ]
    }
   ],
   "source": [
    "modelnb = BiphasicAxonMapGPU(axlambda=800, engine='jax', min_ax_sensitivity=5e-3)\n",
    "modelnb.build()\n",
    "print()"
   ]
  },
  {
   "cell_type": "code",
   "execution_count": 47,
   "id": "6887cc4d-da8b-46aa-a521-3a2e3898aa57",
   "metadata": {},
   "outputs": [
    {
     "name": "stdout",
     "output_type": "stream",
     "text": [
      "(Old) Took 174.9ms, 174.3ms jax (100.0%)\n"
     ]
    }
   ],
   "source": [
    "start = time.time()\n",
    "jax_time = modelnb.predict_percept(implant)\n",
    "real_time = (time.time() - start)*1000\n",
    "print(f\"(Old) Took {round(real_time, 1)}ms, {round(jax_time, 1)}ms jax ({round(jax_time / real_time * 100, 0)}%)\")"
   ]
  },
  {
   "cell_type": "code",
   "execution_count": 40,
   "id": "800c6e11-cf55-4e30-8f97-00472233d1cc",
   "metadata": {},
   "outputs": [],
   "source": [
    "from jax import jit, vmap\n",
    "import jax.numpy as jnp\n",
    "def predict_one_point(axon, brights, sizes, streaks, x, y, rho, axlambda):\n",
    "    d2_el = (axon[:, 0, None] - x)**2 + (axon[:, 1, None] - y)**2\n",
    "    intensities = brights * jnp.exp(-d2_el / (2. * rho**2 * sizes)) * (axon[:, 2, None] ** (1./streaks))\n",
    "    return jnp.sum(intensities, axis=1)\n",
    "#     return jit(vmap(predict_one_segment, in_axes=[0, None, None, None, None, None, None, None]), static_argnums=[6,7])(axon, brights, sizes, streaks, x, y, rho, axlambda)\n",
    "\n",
    "def gpu_biphasic_axon_map(amp, freq, pdur, x, y, # Per ACTIVE electrode, (amp, freq, pdur, x, y)\n",
    "                          axon_segments, rho, axlambda, thresh_percept):\n",
    "    deg2rad = 3.14159265358979323846 / 180.0\n",
    "\n",
    "#     n_space = len(axon_segments)\n",
    "\n",
    "    min_size = 10**2 / rho**2\n",
    "    min_streak = 10**2 / axlambda **2\n",
    "\n",
    "    # First get contributions from F, G, H per electrode\n",
    "    scaled_amps = amp / (0.8825 + 0.27*pdur)\n",
    "    brights = 1.84*scaled_amps + 0.2*freq + 3.0986\n",
    "    sizes = jnp.maximum(1.081*scaled_amps - 0.3533764, min_size)\n",
    "    streaks = jnp.maximum(1.56 - 0.54 * pdur ** 0.21, min_streak)\n",
    "\n",
    "#     # axon_segments is (n_space, axon_length, 3), x and y are (n_elec)\n",
    "#     d2_el = (axon_segments[:, :, 0, None] - params[3])**2 + (axon_segments[:, :, 1, None] - params[4])**2\n",
    "#     # (n_space, axon_length, n_elecs)\n",
    "    \n",
    "#     #                       (n_elecs) (n_space, axon_length, n_elecs)            (n_space, axon_length, n_elecs) \n",
    "#     electrode_intensities = brights * jnp.exp(-d2_el / ( 2. * rho**2. * sizes)) * (axon_segments[:, :, 2, None] ** (1. / streaks))\n",
    "#     # (n_space, axon_length, n_elecs)\n",
    "    \n",
    "# #     axon_intensities = \n",
    "#     # (n_space, n_elecs)\n",
    "#     I = np.sum(electrode_intensities, axis=2)\n",
    "    \n",
    "    \n",
    "    \n",
    "    \n",
    "    I = jnp.max(jit(vmap(predict_one_point, in_axes=[0, None, None, None, None, None, None, None]))(axon_segments, brights, sizes, streaks, x, y, rho, axlambda), axis=1)\n",
    "    I = (I > thresh_percept) * I\n",
    "    return I\n",
    "from copy import deepcopy\n",
    "from pulse2percept.percepts import Percept\n",
    "class BiphasicAxonMapGPUSpatial(AxonMapSpatial):\n",
    "    def __init__(self, **params):\n",
    "        super(BiphasicAxonMapGPUSpatial, self).__init__(**params)\n",
    "\n",
    "    def _predict_spatial(self, earray, stim):\n",
    "#         start = time.time()\n",
    "        assert isinstance(earray, ElectrodeArray)\n",
    "        assert isinstance(stim, Stimulus)\n",
    "\n",
    "        # get relevant stimulus properties\n",
    "        amps = np.array([stim.metadata['electrodes'][str(e)]['metadata']['amp'] for e in stim.electrodes], dtype=\"float32\")\n",
    "        freqs = np.array([stim.metadata['electrodes'][str(e)]['metadata']['freq'] for e in stim.electrodes], dtype=\"float32\")\n",
    "        pdurs = np.array([stim.metadata['electrodes'][str(e)]['metadata']['phase_dur'] for e in stim.electrodes], dtype=\"float32\")\n",
    "\n",
    "        x = np.array([earray[e].x for e in stim.electrodes], dtype=np.float32)\n",
    "        y = np.array([earray[e].y for e in stim.electrodes], dtype=np.float32)\n",
    "        \n",
    "        params = np.vstack([amps, freqs, pdurs, x, y])\n",
    "#         begin = time.time()\n",
    "#         print(\"Setup time: %.3fms\" % ((begin - start)*1000))\n",
    "#         params = jax.device_put(params, jax.devices()[0])\n",
    "#         ax_contrib = jax.device_put(self.axon_contrib, jax.devices()[0])\n",
    "#         ax_contrib = self.axon_contrib\n",
    "        e1 = time.time()\n",
    "#         print(\"Transfer time: %.3fms\" % ((e1 - begin)*1000))\n",
    "        p =  jit(self.gpu_biphasic_axon_map, static_argnums=[6, 7, 8])(amps, freqs, pdurs, x, y,\n",
    "                                     self.axon_contrib,\n",
    "                                     self.rho, self.axlambda, self.thresh_percept)\n",
    "        end = time.time()\n",
    "#         print(\"Jax time: {} ms on sample {}\".format((end - begin) * 1000, stim.shape))\n",
    "\n",
    "        return (end - e1) * 1000\n",
    "\n",
    "    def _build(self):\n",
    "        super(BiphasicAxonMapGPUSpatial, self)._build()\n",
    "        self.axon_contrib = jax.device_put(self.axon_contrib, jax.devices()[0])\n",
    "        \n",
    "    def predict_one_point(self, axon, brights, sizes, streaks, x, y, rho, axlambda):\n",
    "        d2_el = (axon[:, 0, None] - x)**2 + (axon[:, 1, None] - y)**2\n",
    "        intensities = brights * jnp.exp(-d2_el / (2. * rho**2 * sizes)) * (axon[:, 2, None] ** (1./streaks))\n",
    "        return jnp.sum(intensities, axis=1)\n",
    "    #     return jit(vmap(predict_one_segment, in_axes=[0, None, None, None, None, None, None, None]), static_argnums=[6,7])(axon, brights, sizes, streaks, x, y, rho, axlambda)\n",
    "\n",
    "    def gpu_biphasic_axon_map(self, amp, freq, pdur, x, y, # Per ACTIVE electrode, (amp, freq, pdur, x, y)\n",
    "                              axon_segments, rho, axlambda, thresh_percept):\n",
    "        deg2rad = 3.14159265358979323846 / 180.0\n",
    "\n",
    "    #     n_space = len(axon_segments)\n",
    "\n",
    "        min_size = 10**2 / rho**2\n",
    "        min_streak = 10**2 / axlambda **2\n",
    "\n",
    "        # First get contributions from F, G, H per electrode\n",
    "        scaled_amps = amp / (0.8825 + 0.27*pdur)\n",
    "        brights = 1.84*scaled_amps + 0.2*freq + 3.0986\n",
    "        sizes = jnp.maximum(1.081*scaled_amps - 0.3533764, min_size)\n",
    "        streaks = jnp.maximum(1.56 - 0.54 * pdur ** 0.21, min_streak)\n",
    "\n",
    "    #     # axon_segments is (n_space, axon_length, 3), x and y are (n_elec)\n",
    "    #     d2_el = (axon_segments[:, :, 0, None] - params[3])**2 + (axon_segments[:, :, 1, None] - params[4])**2\n",
    "    #     # (n_space, axon_length, n_elecs)\n",
    "\n",
    "    #     #                       (n_elecs) (n_space, axon_length, n_elecs)            (n_space, axon_length, n_elecs) \n",
    "    #     electrode_intensities = brights * jnp.exp(-d2_el / ( 2. * rho**2. * sizes)) * (axon_segments[:, :, 2, None] ** (1. / streaks))\n",
    "    #     # (n_space, axon_length, n_elecs)\n",
    "\n",
    "    # #     axon_intensities = \n",
    "    #     # (n_space, n_elecs)\n",
    "    #     I = np.sum(electrode_intensities, axis=2)\n",
    "\n",
    "\n",
    "\n",
    "\n",
    "        I = jnp.max(jit(vmap(self.predict_one_point, in_axes=[0, None, None, None, None, None, None, None]), static_argnums=[6, 7])(axon_segments, brights, sizes, streaks, x, y, rho, axlambda), axis=1)\n",
    "    #     I = (I > thresh_percept) * I\n",
    "        return I\n",
    "        \n",
    "\n",
    "\n",
    "\n",
    "class BiphasicAxonMapGPU(Model):\n",
    "    def __init__(self, **params):\n",
    "        super(BiphasicAxonMapGPU, self).__init__(spatial=BiphasicAxonMapGPUSpatial(), temporal=None, **params)\n",
    "\n",
    "    def predict_percept(self, implant, t_percept=None):\n",
    "#         start = time.time()\n",
    "        # Make sure stimulus is a BiphasicPulseTrain:\n",
    "        if not isinstance(implant.stim, BiphasicPulseTrain):\n",
    "            # Could still be a stimulus where each electrode has a biphasic pulse train\n",
    "            for ele, params in implant.stim.metadata['electrodes'].items():\n",
    "                if params['type'] != BiphasicPulseTrain or params['metadata']['delay_dur'] != 0: \n",
    "                    raise TypeError(\"All stimuli must be BiphasicPulseTrains with no delay dur (Failing electrode: %s)\" % (ele)) \n",
    "        \n",
    "#         return super(BiphasicAxonMapGPU, self).predict_percept(implant, t_percept=t_percept)\n",
    "\n",
    "        if not self.is_built:\n",
    "            raise NotBuiltError(\"Yout must call ``build`` first.\")\n",
    "        if not isinstance(implant, ProsthesisSystem):\n",
    "            raise TypeError((\"'implant' must be a ProsthesisSystem object, \"\n",
    "                             \"not %s.\") % type(implant))\n",
    "\n",
    "        # Calculate the Stimulus at requested time points:\n",
    "\n",
    "        stim = Stimulus(implant.stim) # make sure stimulus is in proper format\n",
    "\n",
    "#         e4 = time.time()\n",
    "#         print(\"Stim restructuring and checks: %.3fms\" % ((e4 - start) * 1000))\n",
    "        \n",
    "        resp = self._predict_spatial(implant.earray, stim)\n",
    "        return resp\n",
    "#         e5 = time.time()\n",
    "#         print(\"predict_spatial: %.3fms\" % ((e5 - e4) * 1000))\n",
    "        p = Percept(resp.reshape(list(self.grid.x.shape) + [-1]),\n",
    "                       space=self.grid, time=None,\n",
    "                       metadata={'stim': stim.metadata})\n",
    "#         e6 = time.time()\n",
    "#         print(\"Percept Construction: %.3fms\" % ((e6 - e5) * 1000))\n",
    "        return p\n",
    "\n",
    "    def predict_percept_batched(self, implant, stim_list, t_percept=None):\n",
    "        start = time.time()\n",
    "        for stim in stim_list:\n",
    "            if not isinstance(stim, BiphasicPulseTrain):\n",
    "                # Could still be a stimulus where each electrode has a biphasic pulse train\n",
    "                for ele, params in stim.metadata['electrodes'].items():\n",
    "                    if params['type'] != BiphasicPulseTrain or params['metadata']['delay_dur'] != 0: \n",
    "                        raise TypeError(\"All stimuli must be BiphasicPulseTrains with no delay dur (Failing electrode: %s)\" % (ele)) \n",
    "        \n",
    "        if not self.is_built:\n",
    "            raise NotBuiltError(\"You must call ``build`` first.\")\n",
    "        if not isinstance(implant, ProsthesisSystem):\n",
    "            raise TypeError((\"'implant' must be a ProsthesisSystem object, \"\n",
    "                             \"not %s.\") % type(implant))\n",
    "        \n",
    "        batch = []\n",
    "        for stim in stim_list:   \n",
    "            amps = np.array([stim.metadata['electrodes'][str(e)]['metadata']['amp'] for e in stim.electrodes], dtype=\"float32\")\n",
    "            freqs = np.array([stim.metadata['electrodes'][str(e)]['metadata']['freq'] for e in stim.electrodes], dtype=\"float32\")\n",
    "            pdurs = np.array([stim.metadata['electrodes'][str(e)]['metadata']['phase_dur'] for e in stim.electrodes], dtype=\"float32\")\n",
    "            x = np.array([implant.earray[e].x for e in stim.electrodes], dtype=np.float32)\n",
    "            y = np.array([implant.earray[e].y for e in stim.electrodes], dtype=np.float32)\n",
    "\n",
    "            batch.append(np.vstack([amps, freqs, pdurs, x, y]))\n",
    "        \n",
    "        batch = np.array(batch) \n",
    "        e1 = time.time()\n",
    "        print(\"Setup: %.3fms\" % ((e1 - start) * 1000))\n",
    "#         print(batch.shape)\n",
    "        start = time.time()\n",
    "#         print(\"Transfer: %.3fms\" % ((start - e1) * 1000))\n",
    "        resps = jit(vmap(gpu_biphasic_axon_map, in_axes=[0, None, None, None, None]), static_argnums=[2,3,4])(batch, self.axon_contrib, self.rho, self.axlambda, self.thresh_percept).block_until_ready()\n",
    "        end = time.time()\n",
    "        print(\"Jax time: %.3f ms, %.3f ms per sample\" % (float(end - start) * 1000, float((end - start) * 1000 / len(stim_list))))\n"
   ]
  },
  {
   "cell_type": "code",
   "execution_count": null,
   "id": "8becd84f-5b64-4a05-97be-06542e6b0473",
   "metadata": {},
   "outputs": [],
   "source": []
  },
  {
   "cell_type": "code",
   "execution_count": 7,
   "id": "23db9db1-03b9-4019-aefb-d7815efec7be",
   "metadata": {},
   "outputs": [
    {
     "ename": "NameError",
     "evalue": "name 'percept' is not defined",
     "output_type": "error",
     "traceback": [
      "\u001b[0;31m---------------------------------------------------------------------------\u001b[0m",
      "\u001b[0;31mNameError\u001b[0m                                 Traceback (most recent call last)",
      "\u001b[0;32m/tmp/ipykernel_80989/2340734444.py\u001b[0m in \u001b[0;36m<module>\u001b[0;34m\u001b[0m\n\u001b[1;32m      2\u001b[0m \u001b[0mm1\u001b[0m\u001b[0;34m.\u001b[0m\u001b[0mbuild\u001b[0m\u001b[0;34m(\u001b[0m\u001b[0;34m)\u001b[0m\u001b[0;34m\u001b[0m\u001b[0;34m\u001b[0m\u001b[0m\n\u001b[1;32m      3\u001b[0m \u001b[0mp1\u001b[0m \u001b[0;34m=\u001b[0m \u001b[0mm1\u001b[0m\u001b[0;34m.\u001b[0m\u001b[0mpredict_percept\u001b[0m\u001b[0;34m(\u001b[0m\u001b[0mimplant\u001b[0m\u001b[0;34m)\u001b[0m\u001b[0;34m\u001b[0m\u001b[0;34m\u001b[0m\u001b[0m\n\u001b[0;32m----> 4\u001b[0;31m \u001b[0mnp\u001b[0m\u001b[0;34m.\u001b[0m\u001b[0mmax\u001b[0m\u001b[0;34m(\u001b[0m\u001b[0mnp\u001b[0m\u001b[0;34m.\u001b[0m\u001b[0mabs\u001b[0m\u001b[0;34m(\u001b[0m\u001b[0mp1\u001b[0m\u001b[0;34m.\u001b[0m\u001b[0mdata\u001b[0m \u001b[0;34m-\u001b[0m \u001b[0mpercept\u001b[0m\u001b[0;34m.\u001b[0m\u001b[0mdata\u001b[0m\u001b[0;34m)\u001b[0m\u001b[0;34m)\u001b[0m\u001b[0;34m\u001b[0m\u001b[0;34m\u001b[0m\u001b[0m\n\u001b[0m",
      "\u001b[0;31mNameError\u001b[0m: name 'percept' is not defined"
     ]
    }
   ],
   "source": [
    "m1 = BiphasicAxonMapModel()\n",
    "m1.build()\n",
    "p1 = m1.predict_percept(implant)\n",
    "np.max(np.abs(p1.data - percept.data))"
   ]
  },
  {
   "cell_type": "code",
   "execution_count": null,
   "id": "150febb4-45c4-4bb8-b585-180431c1e10e",
   "metadata": {},
   "outputs": [],
   "source": []
  }
 ],
 "metadata": {
  "kernelspec": {
   "display_name": "Python 3 (ipykernel)",
   "language": "python",
   "name": "python3"
  },
  "language_info": {
   "codemirror_mode": {
    "name": "ipython",
    "version": 3
   },
   "file_extension": ".py",
   "mimetype": "text/x-python",
   "name": "python",
   "nbconvert_exporter": "python",
   "pygments_lexer": "ipython3",
   "version": "3.8.12"
  }
 },
 "nbformat": 4,
 "nbformat_minor": 5
}
